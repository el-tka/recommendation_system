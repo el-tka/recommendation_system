{
 "cells": [
  {
   "cell_type": "markdown",
   "metadata": {},
   "source": [
    "# 0. Configuration"
   ]
  },
  {
   "cell_type": "code",
   "execution_count": 1,
   "metadata": {},
   "outputs": [],
   "source": [
    "# links to shared data MovieLens\n",
    "# source on kaggle: https://www.kaggle.com/code/quangnhatbui/movie-recommender/data\n",
    "RATINGS_SMALL_URL = 'https://drive.google.com/file/d/1BlZfCLLs5A13tbNSJZ1GPkHLWQOnPlE4/view?usp=share_link'\n",
    "MOVIES_METADATA_URL = 'https://drive.google.com/file/d/19g6-apYbZb5D-wRj4L7aYKhxS-fDM4Fb/view?usp=share_link'"
   ]
  },
  {
   "cell_type": "markdown",
   "metadata": {},
   "source": [
    "# 1. Modules and functions"
   ]
  },
  {
   "cell_type": "code",
   "execution_count": 2,
   "metadata": {},
   "outputs": [],
   "source": [
    "# just to make it available to download w/o SSL verification\n",
    "import ssl\n",
    "ssl._create_default_https_context = ssl._create_unverified_context\n",
    "\n",
    "import numpy as np\n",
    "import pandas as pd\n",
    "import scipy.sparse as sp\n",
    "\n",
    "from itertools import islice, cycle, product\n",
    "\n",
    "from tqdm import tqdm_notebook\n",
    "import warnings\n",
    "warnings.filterwarnings('ignore')\n",
    "\n",
    "import datetime as dt\n",
    "from math import log2"
   ]
  },
  {
   "cell_type": "markdown",
   "metadata": {},
   "source": [
    "## 1. 1. Helper functions to avoid copy paste"
   ]
  },
  {
   "cell_type": "code",
   "execution_count": 3,
   "metadata": {},
   "outputs": [],
   "source": [
    "def read_csv_from_gdrive(url):\n",
    "    \"\"\"\n",
    "    gets csv data from a given url (taken from file -> share -> copy link)\n",
    "    :url: example https://drive.google.com/file/d/1BlZfCLLs5A13tbNSJZ1GPkHLWQOnPlE4/view?usp=share_link\n",
    "    \"\"\"\n",
    "    file_id = url.split('/')[-2]\n",
    "    file_path = 'https://drive.google.com/uc?export=download&id=' + file_id\n",
    "    data = pd.read_csv(file_path)\n",
    "\n",
    "    return data"
   ]
  },
  {
   "cell_type": "markdown",
   "metadata": {},
   "source": [
    "# 2. Main"
   ]
  },
  {
   "cell_type": "markdown",
   "metadata": {},
   "source": [
    "## 2.1. Load Data"
   ]
  },
  {
   "cell_type": "markdown",
   "metadata": {},
   "source": [
    "`interactions` dataset shows list of movies that users watched, along with given ratings:"
   ]
  },
  {
   "cell_type": "code",
   "execution_count": 4,
   "metadata": {},
   "outputs": [
    {
     "data": {
      "text/html": [
       "<div>\n",
       "<style scoped>\n",
       "    .dataframe tbody tr th:only-of-type {\n",
       "        vertical-align: middle;\n",
       "    }\n",
       "\n",
       "    .dataframe tbody tr th {\n",
       "        vertical-align: top;\n",
       "    }\n",
       "\n",
       "    .dataframe thead th {\n",
       "        text-align: right;\n",
       "    }\n",
       "</style>\n",
       "<table border=\"1\" class=\"dataframe\">\n",
       "  <thead>\n",
       "    <tr style=\"text-align: right;\">\n",
       "      <th></th>\n",
       "      <th>userId</th>\n",
       "      <th>movieId</th>\n",
       "      <th>rating</th>\n",
       "      <th>timestamp</th>\n",
       "    </tr>\n",
       "  </thead>\n",
       "  <tbody>\n",
       "    <tr>\n",
       "      <th>0</th>\n",
       "      <td>1</td>\n",
       "      <td>31</td>\n",
       "      <td>2.5</td>\n",
       "      <td>1260759144</td>\n",
       "    </tr>\n",
       "    <tr>\n",
       "      <th>1</th>\n",
       "      <td>1</td>\n",
       "      <td>1029</td>\n",
       "      <td>3.0</td>\n",
       "      <td>1260759179</td>\n",
       "    </tr>\n",
       "    <tr>\n",
       "      <th>2</th>\n",
       "      <td>1</td>\n",
       "      <td>1061</td>\n",
       "      <td>3.0</td>\n",
       "      <td>1260759182</td>\n",
       "    </tr>\n",
       "    <tr>\n",
       "      <th>3</th>\n",
       "      <td>1</td>\n",
       "      <td>1129</td>\n",
       "      <td>2.0</td>\n",
       "      <td>1260759185</td>\n",
       "    </tr>\n",
       "    <tr>\n",
       "      <th>4</th>\n",
       "      <td>1</td>\n",
       "      <td>1172</td>\n",
       "      <td>4.0</td>\n",
       "      <td>1260759205</td>\n",
       "    </tr>\n",
       "  </tbody>\n",
       "</table>\n",
       "</div>"
      ],
      "text/plain": [
       "   userId  movieId  rating   timestamp\n",
       "0       1       31     2.5  1260759144\n",
       "1       1     1029     3.0  1260759179\n",
       "2       1     1061     3.0  1260759182\n",
       "3       1     1129     2.0  1260759185\n",
       "4       1     1172     4.0  1260759205"
      ]
     },
     "execution_count": 4,
     "metadata": {},
     "output_type": "execute_result"
    }
   ],
   "source": [
    "# interactions data\n",
    "interactions = read_csv_from_gdrive(RATINGS_SMALL_URL)\n",
    "interactions.head()"
   ]
  },
  {
   "cell_type": "markdown",
   "metadata": {},
   "source": [
    "`movies_metadata` dataset shows the list of movies existing on OKKO platform:"
   ]
  },
  {
   "cell_type": "code",
   "execution_count": 5,
   "metadata": {},
   "outputs": [
    {
     "data": {
      "text/html": [
       "<div>\n",
       "<style scoped>\n",
       "    .dataframe tbody tr th:only-of-type {\n",
       "        vertical-align: middle;\n",
       "    }\n",
       "\n",
       "    .dataframe tbody tr th {\n",
       "        vertical-align: top;\n",
       "    }\n",
       "\n",
       "    .dataframe thead th {\n",
       "        text-align: right;\n",
       "    }\n",
       "</style>\n",
       "<table border=\"1\" class=\"dataframe\">\n",
       "  <thead>\n",
       "    <tr style=\"text-align: right;\">\n",
       "      <th></th>\n",
       "      <th>adult</th>\n",
       "      <th>belongs_to_collection</th>\n",
       "      <th>budget</th>\n",
       "      <th>genres</th>\n",
       "      <th>homepage</th>\n",
       "      <th>id</th>\n",
       "      <th>imdb_id</th>\n",
       "      <th>original_language</th>\n",
       "      <th>original_title</th>\n",
       "      <th>overview</th>\n",
       "      <th>...</th>\n",
       "      <th>release_date</th>\n",
       "      <th>revenue</th>\n",
       "      <th>runtime</th>\n",
       "      <th>spoken_languages</th>\n",
       "      <th>status</th>\n",
       "      <th>tagline</th>\n",
       "      <th>title</th>\n",
       "      <th>video</th>\n",
       "      <th>vote_average</th>\n",
       "      <th>vote_count</th>\n",
       "    </tr>\n",
       "  </thead>\n",
       "  <tbody>\n",
       "    <tr>\n",
       "      <th>0</th>\n",
       "      <td>False</td>\n",
       "      <td>{'id': 10194, 'name': 'Toy Story Collection', ...</td>\n",
       "      <td>30000000</td>\n",
       "      <td>[{'id': 16, 'name': 'Animation'}, {'id': 35, '...</td>\n",
       "      <td>http://toystory.disney.com/toy-story</td>\n",
       "      <td>862</td>\n",
       "      <td>tt0114709</td>\n",
       "      <td>en</td>\n",
       "      <td>Toy Story</td>\n",
       "      <td>Led by Woody, Andy's toys live happily in his ...</td>\n",
       "      <td>...</td>\n",
       "      <td>1995-10-30</td>\n",
       "      <td>373554033.0</td>\n",
       "      <td>81.0</td>\n",
       "      <td>[{'iso_639_1': 'en', 'name': 'English'}]</td>\n",
       "      <td>Released</td>\n",
       "      <td>NaN</td>\n",
       "      <td>Toy Story</td>\n",
       "      <td>False</td>\n",
       "      <td>7.7</td>\n",
       "      <td>5415.0</td>\n",
       "    </tr>\n",
       "    <tr>\n",
       "      <th>1</th>\n",
       "      <td>False</td>\n",
       "      <td>NaN</td>\n",
       "      <td>65000000</td>\n",
       "      <td>[{'id': 12, 'name': 'Adventure'}, {'id': 14, '...</td>\n",
       "      <td>NaN</td>\n",
       "      <td>8844</td>\n",
       "      <td>tt0113497</td>\n",
       "      <td>en</td>\n",
       "      <td>Jumanji</td>\n",
       "      <td>When siblings Judy and Peter discover an encha...</td>\n",
       "      <td>...</td>\n",
       "      <td>1995-12-15</td>\n",
       "      <td>262797249.0</td>\n",
       "      <td>104.0</td>\n",
       "      <td>[{'iso_639_1': 'en', 'name': 'English'}, {'iso...</td>\n",
       "      <td>Released</td>\n",
       "      <td>Roll the dice and unleash the excitement!</td>\n",
       "      <td>Jumanji</td>\n",
       "      <td>False</td>\n",
       "      <td>6.9</td>\n",
       "      <td>2413.0</td>\n",
       "    </tr>\n",
       "    <tr>\n",
       "      <th>2</th>\n",
       "      <td>False</td>\n",
       "      <td>{'id': 119050, 'name': 'Grumpy Old Men Collect...</td>\n",
       "      <td>0</td>\n",
       "      <td>[{'id': 10749, 'name': 'Romance'}, {'id': 35, ...</td>\n",
       "      <td>NaN</td>\n",
       "      <td>15602</td>\n",
       "      <td>tt0113228</td>\n",
       "      <td>en</td>\n",
       "      <td>Grumpier Old Men</td>\n",
       "      <td>A family wedding reignites the ancient feud be...</td>\n",
       "      <td>...</td>\n",
       "      <td>1995-12-22</td>\n",
       "      <td>0.0</td>\n",
       "      <td>101.0</td>\n",
       "      <td>[{'iso_639_1': 'en', 'name': 'English'}]</td>\n",
       "      <td>Released</td>\n",
       "      <td>Still Yelling. Still Fighting. Still Ready for...</td>\n",
       "      <td>Grumpier Old Men</td>\n",
       "      <td>False</td>\n",
       "      <td>6.5</td>\n",
       "      <td>92.0</td>\n",
       "    </tr>\n",
       "  </tbody>\n",
       "</table>\n",
       "<p>3 rows × 24 columns</p>\n",
       "</div>"
      ],
      "text/plain": [
       "   adult                              belongs_to_collection    budget  \\\n",
       "0  False  {'id': 10194, 'name': 'Toy Story Collection', ...  30000000   \n",
       "1  False                                                NaN  65000000   \n",
       "2  False  {'id': 119050, 'name': 'Grumpy Old Men Collect...         0   \n",
       "\n",
       "                                              genres  \\\n",
       "0  [{'id': 16, 'name': 'Animation'}, {'id': 35, '...   \n",
       "1  [{'id': 12, 'name': 'Adventure'}, {'id': 14, '...   \n",
       "2  [{'id': 10749, 'name': 'Romance'}, {'id': 35, ...   \n",
       "\n",
       "                               homepage     id    imdb_id original_language  \\\n",
       "0  http://toystory.disney.com/toy-story    862  tt0114709                en   \n",
       "1                                   NaN   8844  tt0113497                en   \n",
       "2                                   NaN  15602  tt0113228                en   \n",
       "\n",
       "     original_title                                           overview  ...  \\\n",
       "0         Toy Story  Led by Woody, Andy's toys live happily in his ...  ...   \n",
       "1           Jumanji  When siblings Judy and Peter discover an encha...  ...   \n",
       "2  Grumpier Old Men  A family wedding reignites the ancient feud be...  ...   \n",
       "\n",
       "  release_date      revenue runtime  \\\n",
       "0   1995-10-30  373554033.0    81.0   \n",
       "1   1995-12-15  262797249.0   104.0   \n",
       "2   1995-12-22          0.0   101.0   \n",
       "\n",
       "                                    spoken_languages    status  \\\n",
       "0           [{'iso_639_1': 'en', 'name': 'English'}]  Released   \n",
       "1  [{'iso_639_1': 'en', 'name': 'English'}, {'iso...  Released   \n",
       "2           [{'iso_639_1': 'en', 'name': 'English'}]  Released   \n",
       "\n",
       "                                             tagline             title  video  \\\n",
       "0                                                NaN         Toy Story  False   \n",
       "1          Roll the dice and unleash the excitement!           Jumanji  False   \n",
       "2  Still Yelling. Still Fighting. Still Ready for...  Grumpier Old Men  False   \n",
       "\n",
       "  vote_average vote_count  \n",
       "0          7.7     5415.0  \n",
       "1          6.9     2413.0  \n",
       "2          6.5       92.0  \n",
       "\n",
       "[3 rows x 24 columns]"
      ]
     },
     "execution_count": 5,
     "metadata": {},
     "output_type": "execute_result"
    }
   ],
   "source": [
    "# information about films etc\n",
    "movies_metadata = read_csv_from_gdrive(MOVIES_METADATA_URL)\n",
    "movies_metadata.head(3)"
   ]
  },
  {
   "cell_type": "code",
   "execution_count": 6,
   "metadata": {},
   "outputs": [],
   "source": [
    "movies_metadata['id'] = movies_metadata['id'].astype(str)\n",
    "interactions['movieId'] = interactions['movieId'].astype(str)"
   ]
  },
  {
   "cell_type": "code",
   "execution_count": 7,
   "metadata": {},
   "outputs": [
    {
     "name": "stdout",
     "output_type": "stream",
     "text": [
      "(100004, 4) (44989, 4)\n"
     ]
    }
   ],
   "source": [
    "# leave only those films that intersect with each other\n",
    "interactions_filtered = interactions.loc[interactions['movieId'].isin(movies_metadata['id'])]\n",
    "print(interactions.shape, interactions_filtered.shape)"
   ]
  },
  {
   "cell_type": "markdown",
   "metadata": {},
   "source": [
    "## 2.2 Data preparation using LightFM Dataset"
   ]
  },
  {
   "cell_type": "markdown",
   "metadata": {},
   "source": [
    "To use implicit kNN method `fit` we need a sparse matrix in COOrdinate format. To achieve that we will use `scipy.sparse.coo_matrix` from scipy;\n"
   ]
  },
  {
   "cell_type": "code",
   "execution_count": 8,
   "metadata": {},
   "outputs": [],
   "source": [
    "def get_coo_matrix(\n",
    "        df: pd.DataFrame, \n",
    "        user_col: str,\n",
    "        item_col: str, \n",
    "        users_mapping: dict, \n",
    "        movies_mapping: dict,\n",
    "        weight_col: str = None\n",
    "        ):\n",
    "    if weight_col is None:\n",
    "        weights = np.ones(len(df), dtype=np.float32)\n",
    "    else:\n",
    "        weights = df[weight_col].astype(np.float32)\n",
    "    interaction_matrix = sp.coo_matrix((\n",
    "        weights, \n",
    "        (\n",
    "            df[user_col].map(users_mapping.get), \n",
    "            df[item_col].map(movies_mapping.get)\n",
    "        )\n",
    "    ))\n",
    "    return interaction_matrix\n"
   ]
  },
  {
   "cell_type": "code",
   "execution_count": 9,
   "metadata": {},
   "outputs": [
    {
     "data": {
      "text/plain": [
       "671"
      ]
     },
     "execution_count": 9,
     "metadata": {},
     "output_type": "execute_result"
    }
   ],
   "source": [
    "# define users mapping\n",
    "users_inv_mapping = dict(enumerate(interactions_filtered['userId'].unique()))\n",
    "users_mapping = {v: k for k, v in users_inv_mapping.items()}\n",
    "len(users_mapping)\n"
   ]
  },
  {
   "cell_type": "code",
   "execution_count": 10,
   "metadata": {},
   "outputs": [
    {
     "data": {
      "text/plain": [
       "2830"
      ]
     },
     "execution_count": 10,
     "metadata": {},
     "output_type": "execute_result"
    }
   ],
   "source": [
    "# define movies mapping\n",
    "movies_inv_mapping = dict(enumerate(interactions_filtered['movieId'].unique()))\n",
    "movies_mapping = {v: k for k, v in movies_inv_mapping.items()}\n",
    "len(movies_mapping)\n"
   ]
  },
  {
   "cell_type": "code",
   "execution_count": 11,
   "metadata": {},
   "outputs": [
    {
     "data": {
      "text/plain": [
       "array(['1970-01-01T00:00:01.260759135', '1970-01-01T00:00:01.260759203',\n",
       "       '1970-01-01T00:00:01.260759139', ...,\n",
       "       '1970-01-01T00:00:01.064245507', '1970-01-01T00:00:01.064245387',\n",
       "       '1970-01-01T00:00:01.066793014'], dtype='datetime64[ns]')"
      ]
     },
     "execution_count": 11,
     "metadata": {},
     "output_type": "execute_result"
    }
   ],
   "source": [
    "pd.to_datetime(interactions_filtered['timestamp']).unique()"
   ]
  },
  {
   "cell_type": "code",
   "execution_count": 12,
   "metadata": {},
   "outputs": [
    {
     "data": {
      "text/plain": [
       "<AxesSubplot:>"
      ]
     },
     "execution_count": 12,
     "metadata": {},
     "output_type": "execute_result"
    },
    {
     "data": {
      "image/png": "[encoded data removed]",
      "text/plain": [
       "<Figure size 640x480 with 1 Axes>"
      ]
     },
     "metadata": {},
     "output_type": "display_data"
    }
   ],
   "source": [
    "pd.to_datetime(interactions_filtered['timestamp']).hist()"
   ]
  },
  {
   "cell_type": "code",
   "execution_count": 20,
   "metadata": {},
   "outputs": [],
   "source": [
    "#let's split the data into train and test sets\n",
    "TRAIN_MAX_DATE = np.quantile([interactions_filtered['timestamp']], 0.75) # define last date to include in train set\n",
    "TEST_MAX_DATE = interactions_filtered['timestamp'].max()\n",
    "\n",
    "\n",
    "df=interactions_filtered\n",
    "interactions_filtered['timestamp'] = pd.to_datetime(interactions_filtered['timestamp'])\n",
    "\n",
    "train_set = df.loc[df['timestamp'] <= pd.Timestamp(TRAIN_MAX_DATE)].reset_index(drop = True)\n",
    "test_set = df.loc[(df['timestamp'] > pd.Timestamp(TRAIN_MAX_DATE)) \\\n",
    "                  & (df['timestamp'] <= pd.Timestamp(TEST_MAX_DATE))].reset_index(drop = True)"
   ]
  },
  {
   "cell_type": "code",
   "execution_count": 21,
   "metadata": {},
   "outputs": [
    {
     "name": "stdout",
     "output_type": "stream",
     "text": [
      "Train set size: (33742, 4)\n",
      "Test set size: (11247, 4)\n"
     ]
    }
   ],
   "source": [
    "print('Train set size: {}'.format(train_set.shape))\n",
    "print('Test set size: {}'.format(test_set.shape))"
   ]
  },
  {
   "cell_type": "code",
   "execution_count": 22,
   "metadata": {},
   "outputs": [],
   "source": [
    "# defining train set on the whole interactions dataset (as HW you will have to split into test and train for evaluation)\n",
    "train_mat = get_coo_matrix(\n",
    "    train_set,\n",
    "    user_col = 'userId',\n",
    "    item_col = 'movieId',\n",
    "    users_mapping = users_mapping,\n",
    "    movies_mapping = movies_mapping\n",
    "    ).tocsr()\n",
    "\n",
    "\n",
    "test_mat = get_coo_matrix(\n",
    "    test_set,\n",
    "    user_col = 'userId',\n",
    "    item_col = 'movieId',\n",
    "    users_mapping = users_mapping,\n",
    "    movies_mapping = movies_mapping\n",
    "    ).tocsr()"
   ]
  },
  {
   "cell_type": "code",
   "execution_count": 23,
   "metadata": {},
   "outputs": [
    {
     "data": {
      "text/plain": [
       "<671x2830 sparse matrix of type '<class 'numpy.float32'>'\n",
       "\twith 33742 stored elements in Compressed Sparse Row format>"
      ]
     },
     "execution_count": 23,
     "metadata": {},
     "output_type": "execute_result"
    }
   ],
   "source": [
    "train_mat"
   ]
  },
  {
   "cell_type": "code",
   "execution_count": 24,
   "metadata": {},
   "outputs": [
    {
     "data": {
      "text/plain": [
       "<664x2826 sparse matrix of type '<class 'numpy.float32'>'\n",
       "\twith 11247 stored elements in Compressed Sparse Row format>"
      ]
     },
     "execution_count": 24,
     "metadata": {},
     "output_type": "execute_result"
    }
   ],
   "source": [
    "test_mat"
   ]
  },
  {
   "cell_type": "markdown",
   "metadata": {},
   "source": [
    "## 2.3. Model Training & Evaluation"
   ]
  },
  {
   "cell_type": "markdown",
   "metadata": {},
   "source": [
    "In [`implicit`](https://pypi.org/project/implicit/), there are various models and can be groupped into:\n",
    "- Item-to-Item: KNN based on various similarities - CosineRecommender, BM25Recommender, TFIDFRecommender\n",
    "- implicit ALS;\n",
    "- Logistic Matrix Factorization;\n",
    "- Bayesian Personalized Ranking (BPR)\n"
   ]
  },
  {
   "cell_type": "markdown",
   "metadata": {},
   "source": [
    "### 2.3.1. Train Model"
   ]
  },
  {
   "cell_type": "code",
   "execution_count": 25,
   "metadata": {},
   "outputs": [],
   "source": [
    "from implicit.nearest_neighbours import (\n",
    "    CosineRecommender,\n",
    "    BM25Recommender,\n",
    "    TFIDFRecommender\n",
    "    )\n"
   ]
  },
  {
   "cell_type": "markdown",
   "metadata": {},
   "source": [
    "Note that in item-to-item models we need to provide matrix in the form of item-user by transposing initial COO matrix user-item\n"
   ]
  },
  {
   "cell_type": "code",
   "execution_count": 26,
   "metadata": {},
   "outputs": [
    {
     "data": {
      "application/vnd.jupyter.widget-view+json": {
       "model_id": "23666bc9197340e8abfbf946878cf78a",
       "version_major": 2,
       "version_minor": 0
      },
      "text/plain": [
       "  0%|          | 0/671 [00:00<?, ?it/s]"
      ]
     },
     "metadata": {},
     "output_type": "display_data"
    }
   ],
   "source": [
    "# fit the model\n",
    "cosine_model = CosineRecommender(K = 20)\n",
    "cosine_model.fit(train_mat.T)\n"
   ]
  },
  {
   "cell_type": "markdown",
   "metadata": {},
   "source": [
    "### 2.3.2. Evaluate the Model"
   ]
  },
  {
   "cell_type": "code",
   "execution_count": 27,
   "metadata": {},
   "outputs": [
    {
     "name": "stdout",
     "output_type": "stream",
     "text": [
      "Rekko for user 1, row number in matrix - 0\n"
     ]
    }
   ],
   "source": [
    "# let's make sense-check\n",
    "top_N = 10\n",
    "user_id = interactions_filtered['userId'].iloc[0]\n",
    "row_id = users_mapping[user_id]\n",
    "print(f'Rekko for user {user_id}, row number in matrix - {row_id}')"
   ]
  },
  {
   "cell_type": "code",
   "execution_count": 28,
   "metadata": {},
   "outputs": [
    {
     "data": {
      "text/plain": [
       "<function dict.values>"
      ]
     },
     "execution_count": 28,
     "metadata": {},
     "output_type": "execute_result"
    }
   ],
   "source": [
    "users_mapping.values"
   ]
  },
  {
   "cell_type": "code",
   "execution_count": 29,
   "metadata": {},
   "outputs": [],
   "source": [
    "# create mapper for movieId and title names\n",
    "movie_name_mapper = dict(zip(movies_metadata['id'], movies_metadata['original_title']))"
   ]
  },
  {
   "cell_type": "code",
   "execution_count": 30,
   "metadata": {},
   "outputs": [
    {
     "data": {
      "text/html": [
       "<div>\n",
       "<style scoped>\n",
       "    .dataframe tbody tr th:only-of-type {\n",
       "        vertical-align: middle;\n",
       "    }\n",
       "\n",
       "    .dataframe tbody tr th {\n",
       "        vertical-align: top;\n",
       "    }\n",
       "\n",
       "    .dataframe thead th {\n",
       "        text-align: right;\n",
       "    }\n",
       "</style>\n",
       "<table border=\"1\" class=\"dataframe\">\n",
       "  <thead>\n",
       "    <tr style=\"text-align: right;\">\n",
       "      <th></th>\n",
       "      <th>col_id</th>\n",
       "      <th>similarity</th>\n",
       "      <th>inv_movie_id</th>\n",
       "      <th>movieId</th>\n",
       "      <th>title</th>\n",
       "    </tr>\n",
       "  </thead>\n",
       "  <tbody>\n",
       "    <tr>\n",
       "      <th>0</th>\n",
       "      <td>653.0</td>\n",
       "      <td>0.861587</td>\n",
       "      <td>653</td>\n",
       "      <td>74458</td>\n",
       "      <td>Mere Brother Ki Dulhan</td>\n",
       "    </tr>\n",
       "    <tr>\n",
       "      <th>1</th>\n",
       "      <td>129.0</td>\n",
       "      <td>0.844531</td>\n",
       "      <td>129</td>\n",
       "      <td>1994</td>\n",
       "      <td>The Most Dangerous Game</td>\n",
       "    </tr>\n",
       "    <tr>\n",
       "      <th>2</th>\n",
       "      <td>579.0</td>\n",
       "      <td>0.816769</td>\n",
       "      <td>579</td>\n",
       "      <td>5956</td>\n",
       "      <td>Joshua</td>\n",
       "    </tr>\n",
       "    <tr>\n",
       "      <th>3</th>\n",
       "      <td>460.0</td>\n",
       "      <td>0.776079</td>\n",
       "      <td>460</td>\n",
       "      <td>1895</td>\n",
       "      <td>Star Wars: Episode III - Revenge of the Sith</td>\n",
       "    </tr>\n",
       "    <tr>\n",
       "      <th>4</th>\n",
       "      <td>606.0</td>\n",
       "      <td>0.654064</td>\n",
       "      <td>606</td>\n",
       "      <td>8011</td>\n",
       "      <td>Highlander III: The Sorcerer</td>\n",
       "    </tr>\n",
       "    <tr>\n",
       "      <th>5</th>\n",
       "      <td>337.0</td>\n",
       "      <td>0.593856</td>\n",
       "      <td>337</td>\n",
       "      <td>170</td>\n",
       "      <td>28 Days Later</td>\n",
       "    </tr>\n",
       "    <tr>\n",
       "      <th>6</th>\n",
       "      <td>648.0</td>\n",
       "      <td>0.577499</td>\n",
       "      <td>648</td>\n",
       "      <td>68954</td>\n",
       "      <td>Longitude</td>\n",
       "    </tr>\n",
       "    <tr>\n",
       "      <th>7</th>\n",
       "      <td>399.0</td>\n",
       "      <td>0.561442</td>\n",
       "      <td>399</td>\n",
       "      <td>1088</td>\n",
       "      <td>Whale Rider</td>\n",
       "    </tr>\n",
       "    <tr>\n",
       "      <th>8</th>\n",
       "      <td>278.0</td>\n",
       "      <td>0.561442</td>\n",
       "      <td>278</td>\n",
       "      <td>1584</td>\n",
       "      <td>School of Rock</td>\n",
       "    </tr>\n",
       "    <tr>\n",
       "      <th>9</th>\n",
       "      <td>150.0</td>\n",
       "      <td>0.557086</td>\n",
       "      <td>150</td>\n",
       "      <td>2100</td>\n",
       "      <td>The Last Castle</td>\n",
       "    </tr>\n",
       "  </tbody>\n",
       "</table>\n",
       "</div>"
      ],
      "text/plain": [
       "   col_id  similarity  inv_movie_id movieId  \\\n",
       "0   653.0    0.861587           653   74458   \n",
       "1   129.0    0.844531           129    1994   \n",
       "2   579.0    0.816769           579    5956   \n",
       "3   460.0    0.776079           460    1895   \n",
       "4   606.0    0.654064           606    8011   \n",
       "5   337.0    0.593856           337     170   \n",
       "6   648.0    0.577499           648   68954   \n",
       "7   399.0    0.561442           399    1088   \n",
       "8   278.0    0.561442           278    1584   \n",
       "9   150.0    0.557086           150    2100   \n",
       "\n",
       "                                          title  \n",
       "0                        Mere Brother Ki Dulhan  \n",
       "1                       The Most Dangerous Game  \n",
       "2                                        Joshua  \n",
       "3  Star Wars: Episode III - Revenge of the Sith  \n",
       "4                  Highlander III: The Sorcerer  \n",
       "5                                 28 Days Later  \n",
       "6                                     Longitude  \n",
       "7                                   Whale Rider  \n",
       "8                                School of Rock  \n",
       "9                               The Last Castle  "
      ]
     },
     "execution_count": 30,
     "metadata": {},
     "output_type": "execute_result"
    }
   ],
   "source": [
    "recs = cosine_model.recommend(\n",
    "    row_id,\n",
    "    test_mat,\n",
    "    N = top_N,\n",
    "    filter_already_liked_items = True\n",
    "    )\n",
    "recs = pd.DataFrame(recs).T.rename(columns = {0: 'col_id', 1: 'similarity'})\n",
    "recs['inv_movie_id'] = recs['col_id'].astype(int)\n",
    "recs['movieId'] = recs['inv_movie_id'].map(movies_inv_mapping.get)\n",
    "recs['title'] = recs['movieId'].map(movie_name_mapper)\n",
    "recs\n"
   ]
  },
  {
   "cell_type": "markdown",
   "metadata": {},
   "source": [
    "### 2.3.3. Wrapping up the rec pipeline into function"
   ]
  },
  {
   "cell_type": "code",
   "execution_count": 31,
   "metadata": {},
   "outputs": [],
   "source": [
    "def lfm_recommend(model, \n",
    "                  users_mapping, \n",
    "                  test_mat,\n",
    "                  top_N:int,\n",
    "                  movies_inv_mapping,\n",
    "                  movie_name_mapper\n",
    "                  ):\n",
    "    rekkos = pd.DataFrame(data = [], columns=['userId', 'similarity', 'movieId', 'title'])\n",
    "    for key, value in users_mapping.items():\n",
    "        \n",
    "        recs= model.recommend(\n",
    "        value,\n",
    "        test_mat,\n",
    "        N = top_N,\n",
    "        filter_already_liked_items = True\n",
    "        )\n",
    "        \n",
    "        recs = pd.DataFrame(recs).T.rename(columns = {0: 'col_id', 1: 'similarity'})\n",
    "        recs['userId'] = [key for x in np.ones(len(recs))]\n",
    "        recs['inv_movie_id'] = recs['col_id'].astype(int)\n",
    "        recs['movieId'] = recs['inv_movie_id'].map(movies_inv_mapping.get)\n",
    "        recs['title'] = recs['movieId'].map(movie_name_mapper)\n",
    "        \n",
    "        rekkos = pd.concat([rekkos,recs[['userId', 'similarity','movieId','title']]]).reset_index(drop=True)\n",
    "        \n",
    "    return rekkos\n"
   ]
  },
  {
   "cell_type": "code",
   "execution_count": 77,
   "metadata": {},
   "outputs": [],
   "source": [
    "final_rekkomendations = lfm_recommend(cosine_model, users_mapping, test_mat, 10, movies_inv_mapping, movie_name_mapper )"
   ]
  },
  {
   "cell_type": "markdown",
   "metadata": {},
   "source": [
    "### 2.3.4. NDCG@10 calculation"
   ]
  },
  {
   "cell_type": "code",
   "execution_count": 78,
   "metadata": {},
   "outputs": [],
   "source": [
    "def compute_gain(y_value: float, gain_scheme: str) -> float:\n",
    "    \n",
    "    gain = {'exp2': 2 ** y_value - 1,\n",
    "            'const': y_value}\n",
    "\n",
    "    return float(gain[gain_scheme])"
   ]
  },
  {
   "cell_type": "code",
   "execution_count": 79,
   "metadata": {},
   "outputs": [],
   "source": [
    "def dcg(y_true: np.array, y_pred: np.array, gain_scheme: str) -> float:\n",
    "    \n",
    "    dcg = 0\n",
    "    argsort = np.argsort(y_pred)[::-1]\n",
    "    y_true_sorted = y_true[argsort]\n",
    "\n",
    "    for idx, val in enumerate(y_true_sorted, 1):\n",
    "        gain = compute_gain(val, gain_scheme)\n",
    "        dcg += gain / log2(idx + 1)\n",
    "        \n",
    "    return dcg"
   ]
  },
  {
   "cell_type": "code",
   "execution_count": 80,
   "metadata": {},
   "outputs": [],
   "source": [
    "def ndcg(y_true: np.array, ys_pred: np.array, gain_scheme: str = 'const') -> float:\n",
    "    \n",
    "    # pred dcg then we calc the same to find max possible\n",
    "    preds_dcg = dcg(y_true, ys_pred, gain_scheme)\n",
    "    max_possible_dcg = dcg(y_true, y_true, gain_scheme)\n",
    "\n",
    "    return preds_dcg / max_possible_dcg"
   ]
  },
  {
   "cell_type": "code",
   "execution_count": 81,
   "metadata": {},
   "outputs": [],
   "source": [
    "#let's firstly define relevance score for our predictions based on users' interactions\n",
    "final_rekkomendations['rank'] = final_rekkomendations.groupby('userId')['similarity'].rank(method = 'first', ascending=True)\n",
    "interactions = interactions.sort_values(by=['userId', 'timestamp'])\n",
    "interactions = interactions.groupby('userId').head(10)\n",
    "interactions['rank_true'] = interactions.groupby('userId')['timestamp'].rank(method = 'first', ascending=False)"
   ]
  },
  {
   "cell_type": "code",
   "execution_count": 82,
   "metadata": {},
   "outputs": [],
   "source": [
    "final_rekkomendations['userId'] = pd.to_numeric(final_rekkomendations['userId'])\n",
    "final_rekkomendations['movieId'] = pd.to_numeric(final_rekkomendations['movieId'])"
   ]
  },
  {
   "cell_type": "code",
   "execution_count": 83,
   "metadata": {},
   "outputs": [],
   "source": [
    "interactions['userId'] = pd.to_numeric(interactions['userId'])\n",
    "interactions['movieId'] = pd.to_numeric(interactions['movieId'])"
   ]
  },
  {
   "cell_type": "code",
   "execution_count": 84,
   "metadata": {
    "scrolled": true
   },
   "outputs": [],
   "source": [
    "final_rekkomendations = final_rekkomendations.merge(interactions[['userId','movieId','rank_true']], on=['userId', 'movieId'], how='left')"
   ]
  },
  {
   "cell_type": "code",
   "execution_count": 85,
   "metadata": {},
   "outputs": [],
   "source": [
    "#filling the empty movies' ids\n",
    "final_rekkomendations.rank_true = final_rekkomendations.rank_true.fillna(1)"
   ]
  },
  {
   "cell_type": "code",
   "execution_count": 108,
   "metadata": {},
   "outputs": [],
   "source": [
    "def metrics_calc(dataset, USER_COL):\n",
    "    rekko_metrics = pd.DataFrame(data=[], columns=['userId', 'ndcg'])\n",
    "    final_rekkomendations['rank_true'] = final_rekkomendations['rank_true'].astype('int')\n",
    "    final_rekkomendations['rank'] = final_rekkomendations['rank'].astype('int')\n",
    "    for key in users_mapping.keys():\n",
    "        y_pred = np.array(final_rekkomendations[final_rekkomendations['userId'] == key]['rank'].astype('int').to_list())\n",
    "        y_true = np.array(final_rekkomendations[final_rekkomendations['userId'] == key]['rank_true'].astype('int').to_list())\n",
    "        ndcg_metric = ndcg(y_true, y_pred, 'exp2')\n",
    "        rekko_metrics.loc[key] =  [key, ndcg_metric]\n",
    "    return rekko_metrics"
   ]
  },
  {
   "cell_type": "code",
   "execution_count": 109,
   "metadata": {},
   "outputs": [],
   "source": [
    "USER_COL = 'userId'"
   ]
  },
  {
   "cell_type": "code",
   "execution_count": 110,
   "metadata": {},
   "outputs": [
    {
     "data": {
      "text/html": [
       "<div>\n",
       "<style scoped>\n",
       "    .dataframe tbody tr th:only-of-type {\n",
       "        vertical-align: middle;\n",
       "    }\n",
       "\n",
       "    .dataframe tbody tr th {\n",
       "        vertical-align: top;\n",
       "    }\n",
       "\n",
       "    .dataframe thead th {\n",
       "        text-align: right;\n",
       "    }\n",
       "</style>\n",
       "<table border=\"1\" class=\"dataframe\">\n",
       "  <thead>\n",
       "    <tr style=\"text-align: right;\">\n",
       "      <th></th>\n",
       "      <th>userId</th>\n",
       "      <th>ndcg</th>\n",
       "    </tr>\n",
       "  </thead>\n",
       "  <tbody>\n",
       "    <tr>\n",
       "      <th>1</th>\n",
       "      <td>1.0</td>\n",
       "      <td>1.0</td>\n",
       "    </tr>\n",
       "    <tr>\n",
       "      <th>2</th>\n",
       "      <td>2.0</td>\n",
       "      <td>1.0</td>\n",
       "    </tr>\n",
       "    <tr>\n",
       "      <th>3</th>\n",
       "      <td>3.0</td>\n",
       "      <td>1.0</td>\n",
       "    </tr>\n",
       "    <tr>\n",
       "      <th>4</th>\n",
       "      <td>4.0</td>\n",
       "      <td>1.0</td>\n",
       "    </tr>\n",
       "    <tr>\n",
       "      <th>5</th>\n",
       "      <td>5.0</td>\n",
       "      <td>1.0</td>\n",
       "    </tr>\n",
       "    <tr>\n",
       "      <th>...</th>\n",
       "      <td>...</td>\n",
       "      <td>...</td>\n",
       "    </tr>\n",
       "    <tr>\n",
       "      <th>667</th>\n",
       "      <td>667.0</td>\n",
       "      <td>1.0</td>\n",
       "    </tr>\n",
       "    <tr>\n",
       "      <th>668</th>\n",
       "      <td>668.0</td>\n",
       "      <td>1.0</td>\n",
       "    </tr>\n",
       "    <tr>\n",
       "      <th>669</th>\n",
       "      <td>669.0</td>\n",
       "      <td>1.0</td>\n",
       "    </tr>\n",
       "    <tr>\n",
       "      <th>670</th>\n",
       "      <td>670.0</td>\n",
       "      <td>1.0</td>\n",
       "    </tr>\n",
       "    <tr>\n",
       "      <th>671</th>\n",
       "      <td>671.0</td>\n",
       "      <td>1.0</td>\n",
       "    </tr>\n",
       "  </tbody>\n",
       "</table>\n",
       "<p>671 rows × 2 columns</p>\n",
       "</div>"
      ],
      "text/plain": [
       "     userId  ndcg\n",
       "1       1.0   1.0\n",
       "2       2.0   1.0\n",
       "3       3.0   1.0\n",
       "4       4.0   1.0\n",
       "5       5.0   1.0\n",
       "..      ...   ...\n",
       "667   667.0   1.0\n",
       "668   668.0   1.0\n",
       "669   669.0   1.0\n",
       "670   670.0   1.0\n",
       "671   671.0   1.0\n",
       "\n",
       "[671 rows x 2 columns]"
      ]
     },
     "execution_count": 110,
     "metadata": {},
     "output_type": "execute_result"
    }
   ],
   "source": [
    "metrics_calc(final_rekkomendations, USER_COL)"
   ]
  },
  {
   "cell_type": "markdown",
   "metadata": {},
   "source": [
    "# TODO\n",
    "- Make train/test split -- train the model appropiately and predict on test set;\n",
    "- Wrap up in function recommendations - lfm_recommend();\n",
    "- Calculate `NDCG@10` on test set"
   ]
  }
 ],
 "metadata": {
  "kernelspec": {
   "display_name": "Python 3 (ipykernel)",
   "language": "python",
   "name": "python3"
  },
  "language_info": {
   "codemirror_mode": {
    "name": "ipython",
    "version": 3
   },
   "file_extension": ".py",
   "mimetype": "text/x-python",
   "name": "python",
   "nbconvert_exporter": "python",
   "pygments_lexer": "ipython3",
   "version": "3.9.13"
  },
  "vscode": {
   "interpreter": {
    "hash": "f2d007ce7c74fe41dcd6cb53c80a05eb04c24d9c4918ecd21236b3a1c808c520"
   }
  }
 },
 "nbformat": 4,
 "nbformat_minor": 2
}
